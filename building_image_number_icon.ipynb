{
 "cells": [
  {
   "cell_type": "code",
   "execution_count": 1,
   "id": "e3a8030c",
   "metadata": {},
   "outputs": [],
   "source": [
    "from PIL import Image, ImageDraw, ImageFont, ImageOps\n",
    "import os"
   ]
  },
  {
   "cell_type": "code",
   "execution_count": 2,
   "id": "2cfef308",
   "metadata": {},
   "outputs": [],
   "source": [
    "def build_icon_number(number):\n",
    "    # Definir a largura mínima desejada\n",
    "    min_width = 400\n",
    "\n",
    "    # Criar uma nova imagem com um fundo branco\n",
    "    width, height = min_width, 400\n",
    "    image = Image.new(\"RGB\", (width, height), \"white\")\n",
    "\n",
    "    # Criar um objeto para desenhar na imagem\n",
    "    draw = ImageDraw.Draw(image)\n",
    "\n",
    "    # Desenhar o número 1 no centro da imagem\n",
    "\n",
    "    font_size = 300\n",
    "    font = ImageFont.truetype(\"montserrat.ttf\", font_size)\n",
    "    font.set_variation_by_name('Black')\n",
    "    text_width, text_height = draw.textsize(number, font=font)\n",
    "\n",
    "    # Calcular a largura necessária com base no conteúdo e na margem desejada\n",
    "    content_width = text_width + 20  # Adicione uma margem de 20 pixels\n",
    "    width = max(min_width, content_width)  # Use a largura mínima se for maior que a largura calculada\n",
    "\n",
    "    # Redimensionar a imagem com base na nova largura\n",
    "    image = image.resize((width, height))\n",
    "\n",
    "    # Criar um objeto para desenhar na imagem\n",
    "    draw = ImageDraw.Draw(image)\n",
    "\n",
    "    x = (width - text_width) // 2\n",
    "    y = (height - text_height) // 6\n",
    "    draw.text((x, y), number, fill=\"#4A86E8\", font=font)\n",
    "    \n",
    "    # Criar a pasta se ela não existir\n",
    "    folder_path = \"numbers\"  # Substitua pelo caminho desejado\n",
    "    os.makedirs(folder_path, exist_ok=True)\n",
    "\n",
    "    # Salvar a imagem no disco\n",
    "    image.save(f'number_{number}.png')\n"
   ]
  }
 ],
 "metadata": {
  "kernelspec": {
   "display_name": "Python 3 (ipykernel)",
   "language": "python",
   "name": "python3"
  },
  "language_info": {
   "codemirror_mode": {
    "name": "ipython",
    "version": 3
   },
   "file_extension": ".py",
   "mimetype": "text/x-python",
   "name": "python",
   "nbconvert_exporter": "python",
   "pygments_lexer": "ipython3",
   "version": "3.8.16"
  }
 },
 "nbformat": 4,
 "nbformat_minor": 5
}
